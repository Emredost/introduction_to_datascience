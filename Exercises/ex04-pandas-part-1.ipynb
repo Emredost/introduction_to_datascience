{
 "cells": [
  {
   "cell_type": "markdown",
   "metadata": {},
   "source": [
    "## Exercise 4 - Pandas part 1\n",
    "\n",
    "- **Important:** Please check tips for DataFrame printing from this guide: [DataFrame printing in notebook files](https://hantt.pages.labranet.jamk.fi/ttc2050-material/guides/03-notebook-guide/#printing-results-in-notebook)!\n",
    "- Use *earthquakes.csv* file from data_files directory in this exercise. **Important:** Edit the same DataFrame throughout this whole notebook (changes to DataFrame are applied from each task)!"
   ]
  },
  {
   "cell_type": "markdown",
   "metadata": {},
   "source": [
    "1 Read the data from the csv file and create a DataFrame from it."
   ]
  },
  {
   "cell_type": "code",
   "execution_count": null,
   "metadata": {},
   "outputs": [],
   "source": []
  },
  {
   "cell_type": "markdown",
   "metadata": {},
   "source": [
    "2 Remove the following columns from the DataFrame: *Magnitude Seismic Stations*, *Azimuthal Gap*, *Horizontal Distance* and *Horizontal Error*."
   ]
  },
  {
   "cell_type": "code",
   "execution_count": null,
   "metadata": {},
   "outputs": [],
   "source": []
  },
  {
   "cell_type": "markdown",
   "metadata": {},
   "source": [
    "3 Filter data from the DataFrame so that only rows matching the following criteria will be shown:\n",
    "    - Source must be US\n",
    "    - Magnitude value must be over 7.8\n",
    "    - ID value must start with the string \"USP0007\""
   ]
  },
  {
   "cell_type": "code",
   "execution_count": null,
   "metadata": {},
   "outputs": [],
   "source": []
  },
  {
   "cell_type": "markdown",
   "metadata": {},
   "source": [
    "4 Create a new column to the tenth column position called Grade which will have values from the following formula: (\"Magnitude\" * \"Depth\") / \"Root Mean Square\". Results in this column should be presented with three decimals."
   ]
  },
  {
   "cell_type": "code",
   "execution_count": null,
   "metadata": {},
   "outputs": [],
   "source": []
  }
 ],
 "metadata": {
  "language_info": {
   "codemirror_mode": {
    "name": "ipython",
    "version": 3
   },
   "file_extension": ".py",
   "mimetype": "text/x-python",
   "name": "python",
   "nbconvert_exporter": "python",
   "pygments_lexer": "ipython3",
   "version": 3
  },
  "orig_nbformat": 2
 },
 "nbformat": 4,
 "nbformat_minor": 2
}
